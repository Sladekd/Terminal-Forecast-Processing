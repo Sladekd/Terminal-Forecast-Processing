{
  "nbformat": 4,
  "nbformat_minor": 0,
  "metadata": {
    "colab": {
      "provenance": []
    },
    "kernelspec": {
      "name": "python3",
      "display_name": "Python 3"
    },
    "language_info": {
      "name": "python"
    }
  },
  "cells": [
    {
      "cell_type": "code",
      "execution_count": 13,
      "metadata": {
        "id": "f0i7yMfQ9Lb3"
      },
      "outputs": [],
      "source": [
        "# This notebook helps users to download monthly TAF data from Ogimet from desired list of airports\n",
        "# You can adjust the url to download however big files you want, but be carfull about the quota limits\n",
        "# If you use it, please give credit to Ogimet Database and the Author of the code\n",
        "\n",
        "import requests\n",
        "from bs4 import BeautifulSoup\n",
        "\n",
        "def build_TAF_url(path_to_save, stations, year, mon):\n",
        "\n",
        "    # concatenate list items into the url (ICAO codes, separated by %2C )\n",
        "    stations = ''.join([f'{icao}%2C' for icao in icao_codes])\n",
        "\n",
        "    # url formated with parameters\n",
        "    url = f'https://www.ogimet.com/display_metars2.php?lang=en&lugar={stations}&tipo=FT&ord=DIR&nil=SI&fmt=txt&ano={year}&mes={mon}&day=01&hora=00&anof={year}&mesf={mon}&dayf=31&horaf=23&minf=59&send=send'  # Or use traditional formating\n",
        "    #url = 'https://www.ogimet.com/display_metars2.php?lang=en&lugar={}&tipo=FT&ord=DIR&nil=SI&fmt=txt&ano={}&mes={}&day=01&hora=00&anof={}&mesf={}&dayf=31&horaf=23&minf=59&send=send'.format (stations, year,  mon, year, mon)\n",
        "\n",
        "    # Send a GET request to the URL and retrieve the HTML content\n",
        "    response=requests.get (url)\n",
        "    html_content=response.text\n",
        "\n",
        "    # Parse the HTML content using BeautifulSoup\n",
        "    soup=BeautifulSoup (html_content, 'html.parser')\n",
        "\n",
        "    # Extract the text from  HTML\n",
        "    text_content=soup.get_text ()\n",
        "\n",
        "    # Specify the path on your drive\n",
        "    desktop_path=path_to_save\n",
        "\n",
        "    # Specify the name of the text file (you can change the filename as needed)\n",
        "    filename=f'TAF{year}{mes}.txt'\n",
        "\n",
        "    # Combine the specified path and filename to create the full file path\n",
        "    file_path= desktop_path + filename\n",
        "\n",
        "    # Write the text content to the text file\n",
        "    with open (file_path, 'w') as file:\n",
        "        file.write (text_content)\n",
        "\n",
        "    print(f'Text content of the year: {year}, month: {mon} has been saved!')\n",
        "    return text_content"
      ]
    },
    {
      "cell_type": "markdown",
      "source": [
        "Example usage of the downloading function"
      ],
      "metadata": {
        "id": "xewtuS4-ET8A"
      }
    },
    {
      "cell_type": "code",
      "source": [
        "for i in range (1, 3):\n",
        "    mes = \"{:02d}\".format(i)\n",
        "    build_TAF_url ('/content/',['EDDT'], '2020', mes)"
      ],
      "metadata": {
        "colab": {
          "base_uri": "https://localhost:8080/"
        },
        "id": "XDp64jdkEYiY",
        "outputId": "0433cb9c-75e1-479b-f6ac-5d16aba3acf8"
      },
      "execution_count": 12,
      "outputs": [
        {
          "output_type": "stream",
          "name": "stdout",
          "text": [
            "Text content of the year: 2020, month: 01 has been saved!\n",
            "Text content of the year: 2020, month: 02 has been saved!\n"
          ]
        }
      ]
    },
    {
      "cell_type": "code",
      "source": [
        "# If you want to work directly with the text file\n",
        "tafs = build_TAF_url ('/content/',['EDDT'], '2020', '01')"
      ],
      "metadata": {
        "colab": {
          "base_uri": "https://localhost:8080/"
        },
        "id": "_dQdzs-eGtFI",
        "outputId": "6ed726e2-989c-40ba-ee25-99cb97a30cd8"
      },
      "execution_count": 14,
      "outputs": [
        {
          "output_type": "stream",
          "name": "stdout",
          "text": [
            "Text content of the year: 2020, month: 01 has been saved!\n"
          ]
        }
      ]
    },
    {
      "cell_type": "code",
      "source": [
        "# Variable tafs - the messy text containing requested information\n",
        "tafs"
      ],
      "metadata": {
        "colab": {
          "base_uri": "https://localhost:8080/",
          "height": 70
        },
        "id": "gL1eCRyWGy2c",
        "outputId": "d55bab59-cc10-4f06-b640-a229494a70a8"
      },
      "execution_count": 15,
      "outputs": [
        {
          "output_type": "execute_result",
          "data": {
            "text/plain": [
              "'\\n\\n\\n\\nDisplay metars\\n\\n\\n\\n\\n\\n\\n\\n\\n\\n\\n\\n\\n\\n##########################################################\\n# Query made at 08/03/2023 06:34:48 UTC\\n# Time interval: from 01/01/2020 00:00  to 01/31/2020 23:59  UTC\\n##########################################################\\n\\n# No METAR/SPECI reports frome  in database.\\n\\n# No short TAF reports from  in databse.\\n\\n# No large TAF reports from  in databse.\\n\\n# No METAR/SPECI reports frome  in database.\\n\\n# No short TAF reports from  in databse.\\n\\n# No large TAF reports from  in databse.\\n\\n\\n\\n\\n'"
            ],
            "application/vnd.google.colaboratory.intrinsic+json": {
              "type": "string"
            }
          },
          "metadata": {},
          "execution_count": 15
        }
      ]
    }
  ]
}